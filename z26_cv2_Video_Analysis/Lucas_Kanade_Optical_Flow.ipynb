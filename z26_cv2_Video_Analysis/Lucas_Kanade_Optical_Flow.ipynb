{
 "cells": [
  {
   "cell_type": "code",
   "execution_count": 2,
   "metadata": {},
   "outputs": [],
   "source": [
    "import numpy as np\n",
    "import cv2 as cv\n",
    "import matplotlib.pyplot as plt"
   ]
  },
  {
   "cell_type": "code",
   "execution_count": 13,
   "metadata": {},
   "outputs": [
    {
     "name": "stdout",
     "output_type": "stream",
     "text": [
      "[[[323. 200.]]\n",
      "\n",
      " [[300. 104.]]\n",
      "\n",
      " [[237. 150.]]\n",
      "\n",
      " [[272. 104.]]\n",
      "\n",
      " [[330. 210.]]\n",
      "\n",
      " [[322. 210.]]\n",
      "\n",
      " [[309. 200.]]\n",
      "\n",
      " [[310. 211.]]\n",
      "\n",
      " [[264. 150.]]\n",
      "\n",
      " [[303. 204.]]\n",
      "\n",
      " [[175. 183.]]\n",
      "\n",
      " [[182. 185.]]\n",
      "\n",
      " [[329. 106.]]\n",
      "\n",
      " [[383. 211.]]\n",
      "\n",
      " [[349.  97.]]\n",
      "\n",
      " [[162. 191.]]\n",
      "\n",
      " [[268.  85.]]\n",
      "\n",
      " [[304.  86.]]\n",
      "\n",
      " [[395.  94.]]]\n"
     ]
    }
   ],
   "source": [
    "cap = cv.VideoCapture('slow.flv')\n",
    "\n",
    "# params for ShiTomasi corner detection\n",
    "feature_params = dict( maxCorners = 300,\n",
    "                       qualityLevel = 0.2,\n",
    "                       minDistance = 4,\n",
    "                       blockSize = 5 )\n",
    "# Parameters for lucas kanade optical flow\n",
    "lk_params = dict( winSize  = (15,15),\n",
    "                  maxLevel = 2,\n",
    "                  criteria = (cv.TERM_CRITERIA_EPS | cv.TERM_CRITERIA_COUNT, 10, 0.03))\n",
    "# Create some random colors\n",
    "color = np.random.randint(0,255,(100,3))\n",
    "# Take first frame and find corners in it\n",
    "ret, old_frame = cap.read()\n",
    "old_gray = cv.cvtColor(old_frame, cv.COLOR_BGR2GRAY)\n",
    "p0 = cv.goodFeaturesToTrack(old_gray, mask = None, **feature_params)\n",
    "print(p0)\n",
    "# Create a mask image for drawing purposes\n",
    "mask = np.zeros_like(old_frame)\n",
    "flag = True\n",
    "while(flag):\n",
    "    ret,frame = cap.read()\n",
    "    if(frame is not None):\n",
    "        frame_gray = cv.cvtColor(frame, cv.COLOR_BGR2GRAY)\n",
    "        # calculate optical flow\n",
    "        p1, st, err = cv.calcOpticalFlowPyrLK(old_gray, frame_gray, p0, None, **lk_params)\n",
    "        # Select good points\n",
    "        good_new = p1[st==1]\n",
    "        good_old = p0[st==1]\n",
    "        # draw the tracks\n",
    "        for i,(new,old) in enumerate(zip(good_new,good_old)):\n",
    "            a,b = new.ravel()\n",
    "            c,d = old.ravel()\n",
    "            mask = cv.line(mask, (a,b),(c,d), color[i].tolist(), 2)\n",
    "            frame = cv.circle(frame,(a,b),5,color[i].tolist(),-1)\n",
    "        img = cv.add(frame,mask)\n",
    "        cv.imshow('frame',img)\n",
    "        k = cv.waitKey(30) & 0xff\n",
    "        if k == 27:\n",
    "            break\n",
    "        # Now update the previous frame and previous points\n",
    "        old_gray = frame_gray.copy()\n",
    "        p0 = good_new.reshape(-1,1,2)\n",
    "    else:\n",
    "        flag = False\n",
    "        break\n",
    "cv.destroyAllWindows()\n",
    "cap.release()"
   ]
  },
  {
   "cell_type": "code",
   "execution_count": null,
   "metadata": {},
   "outputs": [],
   "source": []
  }
 ],
 "metadata": {
  "kernelspec": {
   "display_name": "Python 3",
   "language": "python",
   "name": "python3"
  },
  "language_info": {
   "codemirror_mode": {
    "name": "ipython",
    "version": 3
   },
   "file_extension": ".py",
   "mimetype": "text/x-python",
   "name": "python",
   "nbconvert_exporter": "python",
   "pygments_lexer": "ipython3",
   "version": "3.6.6"
  }
 },
 "nbformat": 4,
 "nbformat_minor": 2
}
